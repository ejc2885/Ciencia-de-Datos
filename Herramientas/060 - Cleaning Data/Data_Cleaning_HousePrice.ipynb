{
 "cells": [
  {
   "cell_type": "markdown",
   "metadata": {},
   "source": [
    "# <img style=\"float: left; padding-right: 10px; width: 150px\" src=\"https://sc.acamica.com/icons/1j7w9h/social-300x300.png\">  Acámica DS-COR3 - Ejercicio de Data Cleaning\n",
    "\n",
    "### Marzo 2019\n",
    "\n",
    "<hr style=\"height:2pt\">"
   ]
  },
  {
   "cell_type": "markdown",
   "metadata": {},
   "source": [
    "## Descripción\n",
    "\n",
    "El objetivo de este notebook es practicar algunas técnicas de Data Cleaning sobre un conjunto de datos referido a precios de casas. Aquí se debe analizar la información presentada y la calidad de la misma para entender las acciones correctivas necesarias para lograr un formato adecuado para análisis y preparación de datos.\n",
    "\n",
    "**Link a dataset:** https://www.kaggle.com/code1110/houseprice-data-cleaning-visualization/data\n",
    "\n",
    "**Ejemplo de ejercicio:** https://www.kaggle.com/code1110/houseprice-data-cleaning-visualization/notebook\n",
    "\n",
    "Como guía, se pretende que el análisis cubra los siguientes aspectos:\n",
    "\n",
    "- Remover observaciones no deseadas\n",
    "    - Duplicados\n",
    "    - Irrelevantes o no importantes para el negocio\n",
    "- Arreglar errores de estructura\n",
    "    - En strings, normalizar descripciones (e.g. case, typos)\n",
    "    - Normalizar categorizaciones\n",
    "- Detectar y filtrar outliers\n",
    "- Manejar datos faltantes\n",
    "    - Decidir si imputar o filtrar (drop) en base al negocio\n",
    "    - Imputar o filtrar datos\n",
    "- Chequear resultados de limpieza\n",
    "    - Entender tamaño del dataset luego de cada paso de filtrado\n",
    "    - Analizar dataset resultante y corroborar estado de las columnas procesadas\n",
    "   "
   ]
  }
 ],
 "metadata": {
  "@webio": {
   "lastCommId": "736f4cc820e940eda7cc0bdb97faa59c",
   "lastKernelId": "54a21718-f28f-463e-831d-9952a7bc7edd"
  },
  "kernelspec": {
   "display_name": "Python 3",
   "language": "python",
   "name": "python3"
  },
  "language_info": {
   "codemirror_mode": {
    "name": "ipython",
    "version": 3
   },
   "file_extension": ".py",
   "mimetype": "text/x-python",
   "name": "python",
   "nbconvert_exporter": "python",
   "pygments_lexer": "ipython3",
   "version": "3.7.0"
  }
 },
 "nbformat": 4,
 "nbformat_minor": 2
}
