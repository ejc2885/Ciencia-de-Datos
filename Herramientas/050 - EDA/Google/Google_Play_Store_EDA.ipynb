{
 "cells": [
  {
   "cell_type": "markdown",
   "metadata": {},
   "source": [
    "# <img style=\"float: left; padding-right: 10px; width: 150px\" src=\"https://sc.acamica.com/icons/1j7w9h/social-300x300.png\">  Acámica DS-COR3 - Ejercicio de EDA\n",
    "\n",
    "### Marzo 2019\n",
    "\n",
    "<hr style=\"height:2pt\">"
   ]
  },
  {
   "cell_type": "markdown",
   "metadata": {},
   "source": [
    "## Descripción\n",
    "\n",
    "El objetivo de este notebook es ejercitar las técnicas aprendidas para realizar un Exploratory Data Analysis (EDA) sobre un conjunto de datos referido a reviews de apps publicadas en la tienda Google Play Store. El resultado de este EDA debe ser un reporte donde se expresan los hallazgos y conclusiones obtenidas acerca de la información que dicho set contiene, la calidad de los datos analizados, los patrones o aspectos que se revelan sobre las variables comprendidas, y qué acciones se pueden tomar desde el punto de vista del dominio o negocio a partir de esta información.\n",
    "\n",
    "**Link a dataset:** https://www.kaggle.com/lava18/google-play-store-apps\n",
    "\n",
    "Como guía, se pretende que el análisis cubra los siguientes aspectos:\n",
    "\n",
    "- **Controlar calidad de datos:** revisar aspectos como completitud (i.e. valores nulos o faltantes), outliers, inconsistencias (e.g. categorías inesperadas, tipo de dato erróneo), etc.\n",
    "- **Entender distribuciones por cada variable:** Ya sean histograma de categorías, como distribuciones de variables numéricas, para revelar patrones en los datos.\n",
    "- **Reportar conclusiones y hallazgos:** Acompañados de gráficas adecuadas, y siempre informando con oraciones concretas los resultados obtenidos del análisis hecho. Es deseable que las conclusiones siempre estén alineadas a preguntas a resolver del lado del negocio / dominio para que el análisis agregue valor en términos del \"business understanding\" requerido en un proyecto de Data Science.  \n"
   ]
  }
 ],
 "metadata": {
  "@webio": {
   "lastCommId": "79088b12d56f461fa1b4feefedd4aa24",
   "lastKernelId": "55328110-a132-4cd8-aeff-9c778de01092"
  },
  "kernelspec": {
   "display_name": "Python 3",
   "language": "python",
   "name": "python3"
  },
  "language_info": {
   "codemirror_mode": {
    "name": "ipython",
    "version": 3
   },
   "file_extension": ".py",
   "mimetype": "text/x-python",
   "name": "python",
   "nbconvert_exporter": "python",
   "pygments_lexer": "ipython3",
   "version": "3.7.0"
  }
 },
 "nbformat": 4,
 "nbformat_minor": 2
}
